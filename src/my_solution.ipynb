{
 "cells": [
  {
   "cell_type": "code",
   "execution_count": 1,
   "metadata": {},
   "outputs": [],
   "source": [
    "from dotenv import load_dotenv   #for python-dotenv method\n",
    "load_dotenv()                    \n",
    "\n",
    "import os \n",
    "\n",
    "consumer_key = os.environ.get('CONSUMER_KEY')\n",
    "consumer_secret = os.environ.get('CONSUMER_SECRET')\n",
    "access_token = os.environ.get('ACCESS_TOKEN')\n",
    "access_token_secret = os.environ.get('ACCESS_TOKEN_SECRET')\n",
    "bearer_token = os.environ.get('BEARER_TOKEN')"
   ]
  },
  {
   "cell_type": "code",
   "execution_count": 3,
   "metadata": {},
   "outputs": [],
   "source": [
    "import tweepy\n"
   ]
  },
  {
   "cell_type": "code",
   "execution_count": 22,
   "metadata": {},
   "outputs": [],
   "source": [
    "# https://pythonbasics.org/flask-rest-api/"
   ]
  },
  {
   "cell_type": "code",
   "execution_count": 5,
   "metadata": {},
   "outputs": [],
   "source": [
    "#import requests\n",
    "import requests\n",
    "\n",
    "# Use tweepy.Client()\n",
    "client = tweepy.Client( bearer_token=bearer_token, \n",
    "                        consumer_key=consumer_key, \n",
    "                        consumer_secret=consumer_secret, \n",
    "                        access_token=access_token, \n",
    "                        access_token_secret=access_token_secret, \n",
    "                        return_type = requests.Response,\n",
    "                        wait_on_rate_limit=True)"
   ]
  },
  {
   "cell_type": "code",
   "execution_count": 6,
   "metadata": {},
   "outputs": [],
   "source": [
    "# Define query\n",
    "query = '#100daysofcode (pandas OR python) -is:retweet'\n",
    "\n",
    "# get max. 100 tweets\n",
    "tweets = client.search_recent_tweets(query=query, \n",
    "                                    tweet_fields=['author_id','created_at','lang'],\n",
    "                                     max_results=100)"
   ]
  },
  {
   "cell_type": "code",
   "execution_count": null,
   "metadata": {},
   "outputs": [],
   "source": []
  },
  {
   "cell_type": "code",
   "execution_count": 7,
   "metadata": {},
   "outputs": [
    {
     "data": {
      "text/plain": [
       "<Response [200]>"
      ]
     },
     "execution_count": 7,
     "metadata": {},
     "output_type": "execute_result"
    }
   ],
   "source": [
    "tweets"
   ]
  },
  {
   "cell_type": "code",
   "execution_count": 9,
   "metadata": {},
   "outputs": [
    {
     "data": {
      "text/plain": [
       "200"
      ]
     },
     "execution_count": 9,
     "metadata": {},
     "output_type": "execute_result"
    }
   ],
   "source": [
    "tweets.status_code"
   ]
  },
  {
   "cell_type": "code",
   "execution_count": 12,
   "metadata": {},
   "outputs": [
    {
     "data": {
      "text/plain": [
       "'{\"data\":[{\"author_id\":\"1237043080957739008\",\"lang\"'"
      ]
     },
     "execution_count": 12,
     "metadata": {},
     "output_type": "execute_result"
    }
   ],
   "source": [
    "tweets.text[:50]"
   ]
  },
  {
   "cell_type": "code",
   "execution_count": 13,
   "metadata": {},
   "outputs": [],
   "source": [
    "import pandas as pd\n",
    "\n",
    "# Save data as dictionary\n",
    "tweets_dict = tweets.json() \n",
    "\n",
    "# Extract \"data\" value from dictionary\n",
    "tweets_data = tweets_dict['data'] \n",
    "\n",
    "# Transform to pandas Dataframe\n",
    "df = pd.json_normalize(tweets_data) "
   ]
  },
  {
   "cell_type": "code",
   "execution_count": 14,
   "metadata": {},
   "outputs": [
    {
     "data": {
      "text/html": [
       "<div>\n",
       "<style scoped>\n",
       "    .dataframe tbody tr th:only-of-type {\n",
       "        vertical-align: middle;\n",
       "    }\n",
       "\n",
       "    .dataframe tbody tr th {\n",
       "        vertical-align: top;\n",
       "    }\n",
       "\n",
       "    .dataframe thead th {\n",
       "        text-align: right;\n",
       "    }\n",
       "</style>\n",
       "<table border=\"1\" class=\"dataframe\">\n",
       "  <thead>\n",
       "    <tr style=\"text-align: right;\">\n",
       "      <th></th>\n",
       "      <th>author_id</th>\n",
       "      <th>lang</th>\n",
       "      <th>text</th>\n",
       "      <th>created_at</th>\n",
       "      <th>id</th>\n",
       "    </tr>\n",
       "  </thead>\n",
       "  <tbody>\n",
       "    <tr>\n",
       "      <th>0</th>\n",
       "      <td>1237043080957739008</td>\n",
       "      <td>en</td>\n",
       "      <td>Did touches to a few tasks today, but for most...</td>\n",
       "      <td>2022-06-17T22:05:41.000Z</td>\n",
       "      <td>1537919437747105797</td>\n",
       "    </tr>\n",
       "    <tr>\n",
       "      <th>1</th>\n",
       "      <td>822467311361818625</td>\n",
       "      <td>en</td>\n",
       "      <td>HEY DEVS, TAKE THIS SURVEY &amp;amp;  WIN A MACBOO...</td>\n",
       "      <td>2022-06-17T22:05:19.000Z</td>\n",
       "      <td>1537919345627500546</td>\n",
       "    </tr>\n",
       "    <tr>\n",
       "      <th>2</th>\n",
       "      <td>822467311361818625</td>\n",
       "      <td>en</td>\n",
       "      <td>HEY DEVS, TAKE THIS SURVEY &amp;amp;  WIN A MACBOO...</td>\n",
       "      <td>2022-06-17T22:04:35.000Z</td>\n",
       "      <td>1537919159253708800</td>\n",
       "    </tr>\n",
       "    <tr>\n",
       "      <th>3</th>\n",
       "      <td>1525520317774548992</td>\n",
       "      <td>en</td>\n",
       "      <td>Pay us to do or write your \\n#Assignments \\n#c...</td>\n",
       "      <td>2022-06-17T22:04:28.000Z</td>\n",
       "      <td>1537919129021140993</td>\n",
       "    </tr>\n",
       "    <tr>\n",
       "      <th>4</th>\n",
       "      <td>822467311361818625</td>\n",
       "      <td>en</td>\n",
       "      <td>HEY DEVS, TAKE THIS SURVEY &amp;amp;  WIN A MACBOO...</td>\n",
       "      <td>2022-06-17T22:04:09.000Z</td>\n",
       "      <td>1537919050864463872</td>\n",
       "    </tr>\n",
       "    <tr>\n",
       "      <th>5</th>\n",
       "      <td>822467311361818625</td>\n",
       "      <td>en</td>\n",
       "      <td>HEY DEVS, TAKE THIS SURVEY &amp;amp;  WIN A MACBOO...</td>\n",
       "      <td>2022-06-17T22:03:39.000Z</td>\n",
       "      <td>1537918926809509893</td>\n",
       "    </tr>\n",
       "  </tbody>\n",
       "</table>\n",
       "</div>"
      ],
      "text/plain": [
       "             author_id lang  \\\n",
       "0  1237043080957739008   en   \n",
       "1   822467311361818625   en   \n",
       "2   822467311361818625   en   \n",
       "3  1525520317774548992   en   \n",
       "4   822467311361818625   en   \n",
       "5   822467311361818625   en   \n",
       "\n",
       "                                                text  \\\n",
       "0  Did touches to a few tasks today, but for most...   \n",
       "1  HEY DEVS, TAKE THIS SURVEY &amp;  WIN A MACBOO...   \n",
       "2  HEY DEVS, TAKE THIS SURVEY &amp;  WIN A MACBOO...   \n",
       "3  Pay us to do or write your \\n#Assignments \\n#c...   \n",
       "4  HEY DEVS, TAKE THIS SURVEY &amp;  WIN A MACBOO...   \n",
       "5  HEY DEVS, TAKE THIS SURVEY &amp;  WIN A MACBOO...   \n",
       "\n",
       "                 created_at                   id  \n",
       "0  2022-06-17T22:05:41.000Z  1537919437747105797  \n",
       "1  2022-06-17T22:05:19.000Z  1537919345627500546  \n",
       "2  2022-06-17T22:04:35.000Z  1537919159253708800  \n",
       "3  2022-06-17T22:04:28.000Z  1537919129021140993  \n",
       "4  2022-06-17T22:04:09.000Z  1537919050864463872  \n",
       "5  2022-06-17T22:03:39.000Z  1537918926809509893  "
      ]
     },
     "execution_count": 14,
     "metadata": {},
     "output_type": "execute_result"
    }
   ],
   "source": [
    "df.head(6)"
   ]
  },
  {
   "cell_type": "code",
   "execution_count": 15,
   "metadata": {},
   "outputs": [],
   "source": [
    "df.to_csv(\"coding-tweets.csv\")\n"
   ]
  },
  {
   "cell_type": "code",
   "execution_count": 16,
   "metadata": {},
   "outputs": [],
   "source": [
    "#import re\n",
    "import re\n",
    "\n",
    "#define your function here\n",
    "def word_in_text(word, text):\n",
    "    word = word.lower()\n",
    "    text = text.lower()\n",
    "    match = re.search(word, text)\n",
    "\n",
    "    if match:\n",
    "        return True\n",
    "    return False"
   ]
  },
  {
   "cell_type": "code",
   "execution_count": 17,
   "metadata": {},
   "outputs": [],
   "source": [
    "# Initialize list to store tweet counts\n",
    "[pandas, python] = [0, 0]\n",
    "\n",
    "# Iterate through df, counting the number of tweets in which each(pandas and python) is mentioned.\n",
    "for index, row in df.iterrows():\n",
    "    pandas += word_in_text('pandas', row['text'])\n",
    "    python += word_in_text('python', row['text'])"
   ]
  },
  {
   "cell_type": "code",
   "execution_count": 21,
   "metadata": {},
   "outputs": [
    {
     "name": "stderr",
     "output_type": "stream",
     "text": [
      "C:\\Users\\crist\\AppData\\Local\\Packages\\PythonSoftwareFoundation.Python.3.9_qbz5n2kfra8p0\\LocalCache\\local-packages\\Python39\\site-packages\\seaborn\\_decorators.py:36: FutureWarning: Pass the following variables as keyword args: x, y. From version 0.12, the only valid positional argument will be `data`, and passing other arguments without an explicit keyword will result in an error or misinterpretation.\n",
      "  warnings.warn(\n"
     ]
    },
    {
     "data": {
      "image/png": "[encoded data removed]",
      "text/plain": [
       "<Figure size 432x288 with 1 Axes>"
      ]
     },
     "metadata": {
      "needs_background": "light"
     },
     "output_type": "display_data"
    }
   ],
   "source": [
    "# Import packages\n",
    "import matplotlib.pyplot as plt\n",
    "import seaborn as sns\n",
    "\n",
    "# Set seaborn style\n",
    "sns.set(color_codes=True)\n",
    "\n",
    "# Create a list of labels:cd\n",
    "cd = ['pandas', 'python']\n",
    "\n",
    "# Plot the bar chart\n",
    "ax = sns.barplot(cd, [pandas, python])\n",
    "ax.set(ylabel=\"count\")\n",
    "plt.show()\n"
   ]
  },
  {
   "cell_type": "code",
   "execution_count": null,
   "metadata": {},
   "outputs": [],
   "source": []
  }
 ],
 "metadata": {
  "kernelspec": {
   "display_name": "Python 3.9.13 64-bit (windows store)",
   "language": "python",
   "name": "python3"
  },
  "language_info": {
   "codemirror_mode": {
    "name": "ipython",
    "version": 3
   },
   "file_extension": ".py",
   "mimetype": "text/x-python",
   "name": "python",
   "nbconvert_exporter": "python",
   "pygments_lexer": "ipython3",
   "version": "3.9.13"
  },
  "orig_nbformat": 4,
  "vscode": {
   "interpreter": {
    "hash": "ad9388f64cf7161b61c4f7682ee3cd811b335d8115b055f0594862c2aec53b6b"
   }
  }
 },
 "nbformat": 4,
 "nbformat_minor": 2
}
